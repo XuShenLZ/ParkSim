{
 "cells": [
  {
   "cell_type": "code",
   "execution_count": 90,
   "source": [
    "%load_ext autoreload\n",
    "%autoreload 2\n",
    "\n",
    "from pathlib import Path\n",
    "import numpy as np\n",
    "from IPython.display import display\n",
    "import matplotlib.pyplot as plt\n",
    "import matplotlib.patches as patches\n",
    "\n",
    "from dlp.dataset import Dataset\n",
    "\n",
    "from utils import CNNDataProcessor"
   ],
   "outputs": [
    {
     "output_type": "stream",
     "name": "stdout",
     "text": [
      "The autoreload extension is already loaded. To reload it, use:\n",
      "  %reload_ext autoreload\n"
     ]
    }
   ],
   "metadata": {}
  },
  {
   "cell_type": "code",
   "execution_count": 91,
   "source": [
    "# Load dataset\n",
    "ds = Dataset()\n",
    "\n",
    "home_path = str(Path.home()) + '/GithubRepos'\n",
    "ds.load(home_path + '/dlp-dataset/data/DJI_0012')"
   ],
   "outputs": [],
   "metadata": {}
  },
  {
   "cell_type": "code",
   "execution_count": 92,
   "source": [
    "extractor = CNNDataProcessor(ds = ds)"
   ],
   "outputs": [],
   "metadata": {}
  },
  {
   "cell_type": "code",
   "execution_count": 109,
   "source": [
    "scene = ds.get('scene', ds.list_scenes()[0])\n",
    "frame = ds.get_future_frames(scene['first_frame'],timesteps=300)[0]\n",
    "inst_token = frame['instances'][2]\n",
    "\n",
    "instance = ds.get('instance', inst_token)\n",
    "current_state = np.array([instance['coords'][0], instance['coords'][1], instance['heading'], instance['speed']])\n",
    "\n",
    "img_frame = extractor.vis.plot_frame(frame['frame_token'])\n",
    "img = extractor.vis.inst_centric(img_frame, inst_token)\n",
    "display(img)"
   ],
   "outputs": [
    {
     "output_type": "display_data",
     "data": {
      "image/png": "[encoded data removed]",
      "text/plain": [
       "<PIL.Image.Image image mode=RGB size=400x400 at 0x7F898E95DCA0>"
      ]
     },
     "metadata": {}
    }
   ],
   "metadata": {}
  },
  {
   "cell_type": "code",
   "execution_count": 110,
   "source": [
    "\n",
    "all_spots = extractor.get_parking_spots_from_instance(inst_token, frame)\n",
    "spot_centers = extractor.detect_center(inst_token, 'spot')\n",
    "selected_spot_index = extractor.get_intent_label(inst_token, spot_centers)\n",
    "if selected_spot_index < len(all_spots):\n",
    "    labeled_img = extractor.label_spot(all_spots[selected_spot_index], inst_token, frame)\n",
    "    display(labeled_img)\n",
    "else:\n",
    "    display(img)\n"
   ],
   "outputs": [
    {
     "output_type": "display_data",
     "data": {
      "image/png": "[encoded data removed]",
      "text/plain": [
       "<PIL.Image.Image image mode=RGB size=400x400 at 0x7F898E95DCA0>"
      ]
     },
     "metadata": {}
    }
   ],
   "metadata": {}
  },
  {
   "cell_type": "code",
   "execution_count": 76,
   "source": [
    "for sample_spot in extractor.spot_detector.detect(img):\n",
    "    corners = get_corners(sample_spot)\n",
    "    #fig, ax = plt.subplots()\n",
    "    #ax.add_patch(patches.Polygon(corners, linewidth=0, fill=True, color='yellow'))\n",
    "    #ax.imshow(img)"
   ],
   "outputs": [],
   "metadata": {}
  },
  {
   "cell_type": "code",
   "execution_count": 77,
   "source": [
    "type(img)\n",
    "\n"
   ],
   "outputs": [
    {
     "output_type": "execute_result",
     "data": {
      "text/plain": [
       "PIL.Image.Image"
      ]
     },
     "metadata": {},
     "execution_count": 77
    }
   ],
   "metadata": {}
  },
  {
   "cell_type": "code",
   "execution_count": 33,
   "source": [
    "sample_spot"
   ],
   "outputs": [
    {
     "output_type": "execute_result",
     "data": {
      "text/html": [
       "<div>\n",
       "<style scoped>\n",
       "    .dataframe tbody tr th:only-of-type {\n",
       "        vertical-align: middle;\n",
       "    }\n",
       "\n",
       "    .dataframe tbody tr th {\n",
       "        vertical-align: top;\n",
       "    }\n",
       "\n",
       "    .dataframe thead th {\n",
       "        text-align: right;\n",
       "    }\n",
       "</style>\n",
       "<table border=\"1\" class=\"dataframe\">\n",
       "  <thead>\n",
       "    <tr style=\"text-align: right;\">\n",
       "      <th></th>\n",
       "      <th>id</th>\n",
       "      <th>area</th>\n",
       "      <th>top_left_x</th>\n",
       "      <th>top_left_y</th>\n",
       "      <th>top_right_x</th>\n",
       "      <th>top_right_y</th>\n",
       "      <th>btm_right_x</th>\n",
       "      <th>btm_right_y</th>\n",
       "      <th>btm_left_x</th>\n",
       "      <th>btm_left_y</th>\n",
       "    </tr>\n",
       "  </thead>\n",
       "  <tbody>\n",
       "    <tr>\n",
       "      <th>0</th>\n",
       "      <td>1</td>\n",
       "      <td>A</td>\n",
       "      <td>28.830000</td>\n",
       "      <td>73.43</td>\n",
       "      <td>30.846429</td>\n",
       "      <td>73.43</td>\n",
       "      <td>30.846429</td>\n",
       "      <td>68.81</td>\n",
       "      <td>28.830000</td>\n",
       "      <td>68.81</td>\n",
       "    </tr>\n",
       "    <tr>\n",
       "      <th>0</th>\n",
       "      <td>2</td>\n",
       "      <td>A</td>\n",
       "      <td>31.446429</td>\n",
       "      <td>73.43</td>\n",
       "      <td>33.462857</td>\n",
       "      <td>73.43</td>\n",
       "      <td>33.462857</td>\n",
       "      <td>68.81</td>\n",
       "      <td>31.446429</td>\n",
       "      <td>68.81</td>\n",
       "    </tr>\n",
       "    <tr>\n",
       "      <th>0</th>\n",
       "      <td>3</td>\n",
       "      <td>A</td>\n",
       "      <td>34.062857</td>\n",
       "      <td>73.43</td>\n",
       "      <td>36.079286</td>\n",
       "      <td>73.43</td>\n",
       "      <td>36.079286</td>\n",
       "      <td>68.81</td>\n",
       "      <td>34.062857</td>\n",
       "      <td>68.81</td>\n",
       "    </tr>\n",
       "    <tr>\n",
       "      <th>0</th>\n",
       "      <td>4</td>\n",
       "      <td>A</td>\n",
       "      <td>36.679286</td>\n",
       "      <td>73.43</td>\n",
       "      <td>38.695714</td>\n",
       "      <td>73.43</td>\n",
       "      <td>38.695714</td>\n",
       "      <td>68.81</td>\n",
       "      <td>36.679286</td>\n",
       "      <td>68.81</td>\n",
       "    </tr>\n",
       "    <tr>\n",
       "      <th>0</th>\n",
       "      <td>5</td>\n",
       "      <td>A</td>\n",
       "      <td>39.295714</td>\n",
       "      <td>73.43</td>\n",
       "      <td>41.312143</td>\n",
       "      <td>73.43</td>\n",
       "      <td>41.312143</td>\n",
       "      <td>68.81</td>\n",
       "      <td>39.295714</td>\n",
       "      <td>68.81</td>\n",
       "    </tr>\n",
       "    <tr>\n",
       "      <th>...</th>\n",
       "      <td>...</td>\n",
       "      <td>...</td>\n",
       "      <td>...</td>\n",
       "      <td>...</td>\n",
       "      <td>...</td>\n",
       "      <td>...</td>\n",
       "      <td>...</td>\n",
       "      <td>...</td>\n",
       "      <td>...</td>\n",
       "      <td>...</td>\n",
       "    </tr>\n",
       "    <tr>\n",
       "      <th>0</th>\n",
       "      <td>360</td>\n",
       "      <td>I</td>\n",
       "      <td>125.720000</td>\n",
       "      <td>6.18</td>\n",
       "      <td>127.720000</td>\n",
       "      <td>6.18</td>\n",
       "      <td>127.720000</td>\n",
       "      <td>1.25</td>\n",
       "      <td>125.720000</td>\n",
       "      <td>1.25</td>\n",
       "    </tr>\n",
       "    <tr>\n",
       "      <th>0</th>\n",
       "      <td>361</td>\n",
       "      <td>I</td>\n",
       "      <td>128.320000</td>\n",
       "      <td>6.18</td>\n",
       "      <td>130.320000</td>\n",
       "      <td>6.18</td>\n",
       "      <td>130.320000</td>\n",
       "      <td>1.25</td>\n",
       "      <td>128.320000</td>\n",
       "      <td>1.25</td>\n",
       "    </tr>\n",
       "    <tr>\n",
       "      <th>0</th>\n",
       "      <td>362</td>\n",
       "      <td>I</td>\n",
       "      <td>130.920000</td>\n",
       "      <td>6.18</td>\n",
       "      <td>132.920000</td>\n",
       "      <td>6.18</td>\n",
       "      <td>132.920000</td>\n",
       "      <td>1.25</td>\n",
       "      <td>130.920000</td>\n",
       "      <td>1.25</td>\n",
       "    </tr>\n",
       "    <tr>\n",
       "      <th>0</th>\n",
       "      <td>363</td>\n",
       "      <td>I</td>\n",
       "      <td>133.520000</td>\n",
       "      <td>6.18</td>\n",
       "      <td>135.520000</td>\n",
       "      <td>6.18</td>\n",
       "      <td>135.520000</td>\n",
       "      <td>1.25</td>\n",
       "      <td>133.520000</td>\n",
       "      <td>1.25</td>\n",
       "    </tr>\n",
       "    <tr>\n",
       "      <th>0</th>\n",
       "      <td>364</td>\n",
       "      <td>I</td>\n",
       "      <td>136.120000</td>\n",
       "      <td>6.18</td>\n",
       "      <td>138.120000</td>\n",
       "      <td>6.18</td>\n",
       "      <td>138.120000</td>\n",
       "      <td>1.25</td>\n",
       "      <td>136.120000</td>\n",
       "      <td>1.25</td>\n",
       "    </tr>\n",
       "  </tbody>\n",
       "</table>\n",
       "<p>364 rows × 10 columns</p>\n",
       "</div>"
      ],
      "text/plain": [
       "     id area  top_left_x  top_left_y  top_right_x  top_right_y  btm_right_x  \\\n",
       "0     1    A   28.830000       73.43    30.846429        73.43    30.846429   \n",
       "0     2    A   31.446429       73.43    33.462857        73.43    33.462857   \n",
       "0     3    A   34.062857       73.43    36.079286        73.43    36.079286   \n",
       "0     4    A   36.679286       73.43    38.695714        73.43    38.695714   \n",
       "0     5    A   39.295714       73.43    41.312143        73.43    41.312143   \n",
       "..  ...  ...         ...         ...          ...          ...          ...   \n",
       "0   360    I  125.720000        6.18   127.720000         6.18   127.720000   \n",
       "0   361    I  128.320000        6.18   130.320000         6.18   130.320000   \n",
       "0   362    I  130.920000        6.18   132.920000         6.18   132.920000   \n",
       "0   363    I  133.520000        6.18   135.520000         6.18   135.520000   \n",
       "0   364    I  136.120000        6.18   138.120000         6.18   138.120000   \n",
       "\n",
       "    btm_right_y  btm_left_x  btm_left_y  \n",
       "0         68.81   28.830000       68.81  \n",
       "0         68.81   31.446429       68.81  \n",
       "0         68.81   34.062857       68.81  \n",
       "0         68.81   36.679286       68.81  \n",
       "0         68.81   39.295714       68.81  \n",
       "..          ...         ...         ...  \n",
       "0          1.25  125.720000        1.25  \n",
       "0          1.25  128.320000        1.25  \n",
       "0          1.25  130.920000        1.25  \n",
       "0          1.25  133.520000        1.25  \n",
       "0          1.25  136.120000        1.25  \n",
       "\n",
       "[364 rows x 10 columns]"
      ]
     },
     "metadata": {},
     "execution_count": 33
    }
   ],
   "metadata": {}
  },
  {
   "cell_type": "code",
   "execution_count": null,
   "source": [],
   "outputs": [],
   "metadata": {}
  }
 ],
 "metadata": {
  "orig_nbformat": 4,
  "language_info": {
   "name": "python",
   "version": "3.9.7",
   "mimetype": "text/x-python",
   "codemirror_mode": {
    "name": "ipython",
    "version": 3
   },
   "pygments_lexer": "ipython3",
   "nbconvert_exporter": "python",
   "file_extension": ".py"
  },
  "kernelspec": {
   "name": "python3",
   "display_name": "Python 3.9.7 64-bit"
  },
  "interpreter": {
   "hash": "aee8b7b246df8f9039afb4144a1f6fd8d2ca17a180786b69acc140d282b71a49"
  }
 },
 "nbformat": 4,
 "nbformat_minor": 2
}